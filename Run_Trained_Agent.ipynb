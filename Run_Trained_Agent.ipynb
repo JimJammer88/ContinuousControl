{
 "cells": [
  {
   "cell_type": "code",
   "execution_count": 1,
   "metadata": {},
   "outputs": [],
   "source": [
    "from unityagents import UnityEnvironment\n",
    "import numpy as np"
   ]
  },
  {
   "cell_type": "code",
   "execution_count": 2,
   "metadata": {},
   "outputs": [
    {
     "name": "stdout",
     "output_type": "stream",
     "text": [
      "sys.version_info(major=3, minor=6, micro=8, releaselevel='final', serial=0)\n"
     ]
    }
   ],
   "source": [
    "import sys\n",
    "print(sys.version_info)"
   ]
  },
  {
   "cell_type": "code",
   "execution_count": 3,
   "metadata": {},
   "outputs": [
    {
     "name": "stderr",
     "output_type": "stream",
     "text": [
      "INFO:unityagents:\n",
      "'Academy' started successfully!\n",
      "Unity Academy name: Academy\n",
      "        Number of Brains: 1\n",
      "        Number of External Brains : 1\n",
      "        Lesson number : 0\n",
      "        Reset Parameters :\n",
      "\t\tgoal_speed -> 1.0\n",
      "\t\tgoal_size -> 5.0\n",
      "Unity brain name: ReacherBrain\n",
      "        Number of Visual Observations (per agent): 0\n",
      "        Vector Observation space type: continuous\n",
      "        Vector Observation space size (per agent): 33\n",
      "        Number of stacked Vector Observation: 1\n",
      "        Vector Action space type: continuous\n",
      "        Vector Action space size (per agent): 4\n",
      "        Vector Action descriptions: , , , \n"
     ]
    }
   ],
   "source": [
    "env = UnityEnvironment(file_name='Reacher.app', worker_id = 47)"
   ]
  },
  {
   "cell_type": "code",
   "execution_count": 4,
   "metadata": {},
   "outputs": [],
   "source": [
    "# get the default brain\n",
    "brain_name = env.brain_names[0]\n",
    "brain = env.brains[brain_name]"
   ]
  },
  {
   "cell_type": "code",
   "execution_count": 5,
   "metadata": {},
   "outputs": [],
   "source": [
    "# reset the environment\n",
    "env_info = env.reset(train_mode=False)[brain_name]\n",
    "\n",
    "# number of agents\n",
    "num_agents = len(env_info.agents)\n",
    "\n",
    "# size of each action\n",
    "action_size = brain.vector_action_space_size\n",
    "\n",
    "\n",
    "# examine the state space \n",
    "states = env_info.vector_observations\n",
    "state_size = states.shape[1]\n"
   ]
  },
  {
   "cell_type": "code",
   "execution_count": null,
   "metadata": {},
   "outputs": [
    {
     "name": "stderr",
     "output_type": "stream",
     "text": [
      "/anaconda3/envs/unity/lib/python3.6/site-packages/torch/nn/functional.py:1374: UserWarning: nn.functional.tanh is deprecated. Use torch.tanh instead.\n",
      "  warnings.warn(\"nn.functional.tanh is deprecated. Use torch.tanh instead.\")\n"
     ]
    }
   ],
   "source": [
    "from collections import deque\n",
    "import matplotlib.pyplot as plt \n",
    "import torch\n",
    "from multi_agent_benchmark import Agent\n",
    "from model import Actor\n",
    "\n",
    "agent = Agent(num_agents = len(env_info.agents),\n",
    "              state_size= env_info.vector_observations.shape[1],\n",
    "              action_size= brain.vector_action_space_size, \n",
    "              random_seed=0)\n",
    "\n",
    "\n",
    "\n",
    "device = torch.device(\"cuda:0\" if torch.cuda.is_available() else \"cpu\")\n",
    "trained_actor = Actor(agent.state_size, agent.action_size, 0).to(device)\n",
    "trained_actor.load_state_dict(torch.load(\"actor_solved.pth\"))\n",
    "trained_actor.eval()\n",
    "\n",
    "\n",
    "\n",
    "agent.actor_local = trained_actor\n",
    "\n",
    "#epsilon = epsilon_start\n",
    "score_tracker = []                                        # all scores during exectuition\n",
    "moving_average = []                                # moving average\n",
    "score_100_episodes = deque(maxlen=100)                     # last 100 scores\n",
    "solved = False\n",
    "\n",
    "for i_episode in range(1):\n",
    "    env_info = env.reset(train_mode=False\n",
    "                        )[brain_name] # reset the environment\n",
    "    states = env_info.vector_observations            # get the current states\n",
    "    episode_scores = np.zeros(len(env_info.agents))                                          # initialize the score\n",
    "    dones = env_info.local_done \n",
    "    agent.reset()\n",
    "\n",
    "    t=0\n",
    "    while True:\n",
    "        actions = agent.act(states, False)             # select actions from states\n",
    "        env_info = env.step(actions)[brain_name]        # send the action to the environment\n",
    "        states = env_info.vector_observations \n",
    "        if np.any(dones):                                       # exit loop if episode finished\n",
    "            break;\n",
    "                "
   ]
  },
  {
   "cell_type": "code",
   "execution_count": null,
   "metadata": {},
   "outputs": [],
   "source": []
  },
  {
   "cell_type": "code",
   "execution_count": null,
   "metadata": {},
   "outputs": [],
   "source": []
  }
 ],
 "metadata": {
  "kernelspec": {
   "display_name": "unity",
   "language": "python",
   "name": "unity"
  },
  "language_info": {
   "codemirror_mode": {
    "name": "ipython",
    "version": 3
   },
   "file_extension": ".py",
   "mimetype": "text/x-python",
   "name": "python",
   "nbconvert_exporter": "python",
   "pygments_lexer": "ipython3",
   "version": "3.6.8"
  }
 },
 "nbformat": 4,
 "nbformat_minor": 2
}
